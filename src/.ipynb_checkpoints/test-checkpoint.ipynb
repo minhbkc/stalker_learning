{
 "cells": [
  {
   "cell_type": "code",
   "execution_count": 1,
   "id": "78d05671-679d-4891-9a54-940984d5f5c3",
   "metadata": {
    "tags": []
   },
   "outputs": [],
   "source": [
    "from bs4 import BeautifulSoup\n",
    "from models.wrapper import Stalker"
   ]
  },
  {
   "cell_type": "code",
   "execution_count": 2,
   "id": "d110a811-db8a-4449-88ac-e5bed3ec9958",
   "metadata": {
    "tags": []
   },
   "outputs": [],
   "source": [
    "stalker = Stalker()"
   ]
  },
  {
   "cell_type": "code",
   "execution_count": 3,
   "id": "010c7fe6-1fce-4636-a317-91c65cbbc1ab",
   "metadata": {
    "tags": []
   },
   "outputs": [],
   "source": [
    "content = stalker.scrape_web_content(\n",
    "    url=\"https://www.thegioididong.com/dtdd/oppo-find-n2-flip?utm_flashsale=1\"\n",
    ")"
   ]
  },
  {
   "cell_type": "code",
   "execution_count": 4,
   "id": "d10892c2-cdad-4bfb-9355-41ac1e76418d",
   "metadata": {
    "tags": []
   },
   "outputs": [],
   "source": [
    "content = \"\"\"\n",
    "<!DOCTYPE html>\n",
    "<html>\n",
    "<head>\n",
    "  <title>Danh sách sản phẩm điện thoại</title>\n",
    "</head>\n",
    "<body>\n",
    "  <h1>Danh sách sản phẩm điện thoại</h1>\n",
    "\n",
    "  <ul>\n",
    "    <li>\n",
    "      <img src=\"path_to_image_1\" alt=\"Sản phẩm 1\">\n",
    "      <h2>Sản phẩm 1</h2>\n",
    "      <p>Mô tả sản phẩm 1</p>\n",
    "      <p>Giá: $100</p>\n",
    "    </li>\n",
    "    <li>\n",
    "      <img src=\"path_to_image_2\" alt=\"Sản phẩm 2\">\n",
    "      <h2>Sản phẩm 2</h2>\n",
    "      <p>Mô tả sản phẩm 2</p>\n",
    "      <p>Giá: $200</p>\n",
    "    </li>\n",
    "    <li>\n",
    "      <img src=\"path_to_image_3\" alt=\"Sản phẩm 3\">\n",
    "      <h2>Sản phẩm 3</h2>\n",
    "      <p>Mô tả sản phẩm 3</p>\n",
    "      <p>Giá: $300</p>\n",
    "    </li>\n",
    "  </ul>\n",
    "</body>\n",
    "</html>\n",
    "\"\"\""
   ]
  },
  {
   "cell_type": "code",
   "execution_count": 5,
   "id": "61ce43bd-6dbd-4850-9ab9-2d3c687d2496",
   "metadata": {
    "tags": []
   },
   "outputs": [],
   "source": [
    "start_rule = \"skipTo(</h2>) and skipTo(<p>)\"\n",
    "end_rule = \"backTo(</p>)\""
   ]
  },
  {
   "cell_type": "code",
   "execution_count": 6,
   "id": "349a3f91-098f-4ca0-825e-d35f467c8b67",
   "metadata": {
    "tags": []
   },
   "outputs": [
    {
     "name": "stdout",
     "output_type": "stream",
     "text": [
      "s 237\n",
      "e 16\n",
      "237 253\n",
      "s 129\n",
      "e 16\n",
      "129 145\n",
      "s 129\n",
      "e 16\n",
      "129 145\n",
      "s -1\n"
     ]
    }
   ],
   "source": [
    "results = stalker.get_elements_by_rule(start_rule, end_rule, content)"
   ]
  },
  {
   "cell_type": "code",
   "execution_count": 7,
   "id": "7d93ba59-df36-4e54-9164-a423c9560285",
   "metadata": {
    "tags": []
   },
   "outputs": [
    {
     "data": {
      "text/plain": [
       "['Mô tả sản phẩm 1', 'Mô tả sản phẩm 2', 'Mô tả sản phẩm 3']"
      ]
     },
     "execution_count": 7,
     "metadata": {},
     "output_type": "execute_result"
    }
   ],
   "source": [
    "results"
   ]
  },
  {
   "cell_type": "code",
   "execution_count": 8,
   "id": "687d1bf0-1afc-40d5-ad6f-b9acd4782522",
   "metadata": {
    "tags": []
   },
   "outputs": [
    {
     "data": {
      "text/plain": [
       "222"
      ]
     },
     "execution_count": 8,
     "metadata": {},
     "output_type": "execute_result"
    }
   ],
   "source": [
    "__"
   ]
  },
  {
   "cell_type": "code",
   "execution_count": 28,
   "id": "612dfb7d-93c4-41cb-a408-9baba80f47ae",
   "metadata": {
    "tags": []
   },
   "outputs": [],
   "source": [
    "string = \"abafsbf\""
   ]
  },
  {
   "cell_type": "code",
   "execution_count": 29,
   "id": "ad9d288b-21b9-435b-bd52-0d81d5b818b7",
   "metadata": {
    "tags": []
   },
   "outputs": [
    {
     "data": {
      "text/plain": [
       "2"
      ]
     },
     "execution_count": 29,
     "metadata": {},
     "output_type": "execute_result"
    }
   ],
   "source": [
    "string.rfind(\"a\")"
   ]
  },
  {
   "cell_type": "code",
   "execution_count": 1,
   "id": "ddca6342-2920-49d3-9316-be7ebdd97357",
   "metadata": {
    "tags": []
   },
   "outputs": [],
   "source": [
    "from models.rule_convertor import RuleConvertor"
   ]
  },
  {
   "cell_type": "code",
   "execution_count": 2,
   "id": "6005e25e-a560-48d3-8fbd-3cb8c8debb2f",
   "metadata": {
    "tags": []
   },
   "outputs": [
    {
     "data": {
      "text/plain": [
       "[['skipTo(Camera trước:)'], ['skipTo(<span class=\"\">)']]"
      ]
     },
     "execution_count": 2,
     "metadata": {},
     "output_type": "execute_result"
    }
   ],
   "source": [
    "RuleConvertor.convert_str_to_rule(\n",
    "    \"skipTo(Camera trước:) and skipTo(<span class=\\\"\\\">)\"\n",
    ")"
   ]
  },
  {
   "cell_type": "code",
   "execution_count": 3,
   "id": "4f90070f-199c-4a23-a533-e969ba1d4927",
   "metadata": {
    "tags": []
   },
   "outputs": [
    {
     "data": {
      "text/plain": [
       "('skipTo', 'Camera trước:')"
      ]
     },
     "execution_count": 3,
     "metadata": {},
     "output_type": "execute_result"
    }
   ],
   "source": [
    "RuleConvertor.get_rule_info(\"skipTo(Camera trước:)\")"
   ]
  },
  {
   "cell_type": "code",
   "execution_count": 4,
   "id": "6ff59038-036f-4db6-9127-de720c92bd5a",
   "metadata": {
    "tags": []
   },
   "outputs": [
    {
     "data": {
      "text/plain": [
       "1"
      ]
     },
     "execution_count": 4,
     "metadata": {},
     "output_type": "execute_result"
    }
   ],
   "source": [
    "1 | 0"
   ]
  },
  {
   "cell_type": "code",
   "execution_count": null,
   "id": "791ed664-2930-4552-b012-0238c02dd123",
   "metadata": {},
   "outputs": [],
   "source": []
  }
 ],
 "metadata": {
  "kernelspec": {
   "display_name": "Python 3 (ipykernel)",
   "language": "python",
   "name": "python3"
  },
  "language_info": {
   "codemirror_mode": {
    "name": "ipython",
    "version": 3
   },
   "file_extension": ".py",
   "mimetype": "text/x-python",
   "name": "python",
   "nbconvert_exporter": "python",
   "pygments_lexer": "ipython3",
   "version": "3.8.5"
  }
 },
 "nbformat": 4,
 "nbformat_minor": 5
}
