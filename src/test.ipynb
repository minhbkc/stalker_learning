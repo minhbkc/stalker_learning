{
 "cells": [
  {
   "cell_type": "code",
   "execution_count": 1,
   "id": "78d05671-679d-4891-9a54-940984d5f5c3",
   "metadata": {
    "tags": []
   },
   "outputs": [],
   "source": [
    "from bs4 import BeautifulSoup\n",
    "from models.wrapper import Stalker"
   ]
  },
  {
   "cell_type": "code",
   "execution_count": 2,
   "id": "d110a811-db8a-4449-88ac-e5bed3ec9958",
   "metadata": {
    "tags": []
   },
   "outputs": [],
   "source": [
    "stalker = Stalker()"
   ]
  },
  {
   "cell_type": "code",
   "execution_count": 4,
   "id": "d10892c2-cdad-4bfb-9355-41ac1e76418d",
   "metadata": {
    "tags": []
   },
   "outputs": [],
   "source": [
    "content = \"\"\"\n",
    "<!DOCTYPE html>\n",
    "<html>\n",
    "<head>\n",
    "  <title>Danh sách sản phẩm điện thoại</title>\n",
    "</head>\n",
    "<body>\n",
    "  <h1>Danh sách sản phẩm điện thoại</h1>\n",
    "\n",
    "  <ul>\n",
    "    <li>\n",
    "      <img src=\"path_to_image_1\" alt=\"Sản phẩm 1\">\n",
    "      <h2>Sản phẩm 1</h2>\n",
    "      <p>Mô tả sản phẩm 1</p>\n",
    "      <p>Giá: $100</p>\n",
    "    </li>\n",
    "    <li>\n",
    "      <img src=\"path_to_image_2\" alt=\"Sản phẩm 2\">\n",
    "      <h2>Sản phẩm 2</h2>\n",
    "      <p>Mô tả sản phẩm 2</p>\n",
    "      <p>Giá: $200</p>\n",
    "    </li>\n",
    "    <li>\n",
    "      <img src=\"path_to_image_3\" alt=\"Sản phẩm 3\">\n",
    "      <h2>Sản phẩm 3</h2>\n",
    "      <p>Mô tả sản phẩm 3</p>\n",
    "      <p>Giá: $300</p>\n",
    "    </li>\n",
    "  </ul>\n",
    "</body>\n",
    "</html>\n",
    "\"\"\""
   ]
  },
  {
   "cell_type": "code",
   "execution_count": 20,
   "id": "61ce43bd-6dbd-4850-9ab9-2d3c687d2496",
   "metadata": {
    "tags": []
   },
   "outputs": [],
   "source": [
    "start_rule = \"skipTo(</p>) and skipTo(<p>Giá:) or skipTo(<p>)\"\n",
    "end_rule = \"backTo(</p>)\""
   ]
  },
  {
   "cell_type": "code",
   "execution_count": 21,
   "id": "349a3f91-098f-4ca0-825e-d35f467c8b67",
   "metadata": {
    "tags": []
   },
   "outputs": [
    {
     "name": "stdout",
     "output_type": "stream",
     "text": [
      "s 271\n",
      "e 5\n",
      "271 276\n",
      "s 140\n",
      "e 5\n",
      "140 145\n",
      "s 140\n",
      "e 5\n",
      "140 145\n",
      "s -1\n"
     ]
    }
   ],
   "source": [
    "results = stalker.get_elements_by_rule(start_rule, end_rule, content)"
   ]
  },
  {
   "cell_type": "code",
   "execution_count": 22,
   "id": "7d93ba59-df36-4e54-9164-a423c9560285",
   "metadata": {
    "tags": []
   },
   "outputs": [
    {
     "data": {
      "text/plain": [
       "['$100', '$200', '$300']"
      ]
     },
     "execution_count": 22,
     "metadata": {},
     "output_type": "execute_result"
    }
   ],
   "source": [
    "results"
   ]
  },
  {
   "cell_type": "code",
   "execution_count": null,
   "id": "791ed664-2930-4552-b012-0238c02dd123",
   "metadata": {},
   "outputs": [],
   "source": []
  }
 ],
 "metadata": {
  "kernelspec": {
   "display_name": "Python 3 (ipykernel)",
   "language": "python",
   "name": "python3"
  },
  "language_info": {
   "codemirror_mode": {
    "name": "ipython",
    "version": 3
   },
   "file_extension": ".py",
   "mimetype": "text/x-python",
   "name": "python",
   "nbconvert_exporter": "python",
   "pygments_lexer": "ipython3",
   "version": "3.8.5"
  }
 },
 "nbformat": 4,
 "nbformat_minor": 5
}
